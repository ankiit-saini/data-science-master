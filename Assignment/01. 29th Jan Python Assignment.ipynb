{
 "cells": [
  {
   "cell_type": "code",
   "execution_count": null,
   "id": "a404a417",
   "metadata": {},
   "outputs": [],
   "source": [
    "# 1. Who developed Python Programming Language?\n",
    "#Answer-\n",
    "# Python was created by Guido van Rossum and first released in 1991.\n",
    "# He started working on Python in the late 1980s, and it was first released in 1991. \n",
    "# Guido designed Python with a focus on readability, simplicity, and flexibility, making it easy to learn and use.\n",
    "# It is named after the British comedy television show \"Monty Python's Flying Circus\"."
   ]
  },
  {
   "cell_type": "code",
   "execution_count": null,
   "id": "374e9bd5",
   "metadata": {},
   "outputs": [],
   "source": [
    "# 2. Which type of Programming does Python support?\n",
    "#Answer-\n",
    "# Python supports multiple programming paradigms, including:\n",
    "# - Procedural Programming: Writing procedures or functions to operate on data.\n",
    "# - Object-Oriented Programming (OOP): Organizing code into classes and objects, allowing\n",
    "#   for encapsulation, inheritance, and polymorphism.\n",
    "# - Functional Programming: Treating computation as the evaluation of mathematical functions,\n",
    "#   avoiding changing state and mutable data.\n",
    "# - Imperative Programming: Writing code that describes how to perform tasks step by step.\n",
    "# - Scripting: Writing scripts to automate tasks or control other software applications.    "
   ]
  },
  {
   "cell_type": "code",
   "execution_count": null,
   "id": "44874463",
   "metadata": {},
   "outputs": [],
   "source": [
    "# 3. Is Python case sensitive when dealing with identifiers?\n",
    "#Answer-\n",
    "# Yes, Python is case sensitive when it comes to identifiers. This means that\n",
    "# variables, function names, and other identifiers are treated as distinct if they differ in case.\n",
    "# For example, `myVariable`, `MyVariable`, and `MYVARIABLE` would be considered three different identifiers in Python.  "
   ]
  },
  {
   "cell_type": "code",
   "execution_count": null,
   "id": "10215ce6",
   "metadata": {},
   "outputs": [],
   "source": [
    "# 4. What is the correct extension of the Python file?\n",
    "#Answer-\n",
    "# The correct extension for Python files is `.py`. When you create a Python script or module,\n",
    "# you should save it with this extension to indicate that it contains Python code."
   ]
  },
  {
   "cell_type": "code",
   "execution_count": null,
   "id": "1b202eb4",
   "metadata": {},
   "outputs": [],
   "source": [
    "# 5. Is Python code compiled or interpreted?\n",
    "#Answer-\n",
    "# Python code is primarily interpreted, meaning that it is executed line by line at runtime.\n",
    "# However, Python does use a compilation step to convert the source code into bytecode,\n",
    "# which is then executed by the Python interpreter. This bytecode is platform-independent,\n",
    "# allowing Python to run on different operating systems without modification."
   ]
  },
  {
   "cell_type": "code",
   "execution_count": null,
   "id": "c35b9648",
   "metadata": {},
   "outputs": [],
   "source": [
    "# 6. Name a few blocks of code used to define in Python language?\n",
    "#Answer-\n",
    "# In Python, blocks of code are defined using indentation. The following are common blocks of code:\n",
    "# - Function block: Defined using the `def` keyword.\n",
    "# - Class block: Defined using the `class` keyword.\n",
    "# - Conditional block: Such as `if`, `elif`, and `else`.\n",
    "# - Loops: Such as `for` and `while`.\n",
    "# - Exception Handling: Using `try`, `except`, `finally`, and `else`.\n"
   ]
  },
  {
   "cell_type": "code",
   "execution_count": null,
   "id": "b93b5e01",
   "metadata": {},
   "outputs": [],
   "source": [
    "#7. State a character used to give single-line comments in Python?\n",
    "#Answer-\n",
    "# In Python, the `#` character is used to indicate a single-line comment. Anything\n",
    "# following the `#` on that line will be treated as a comment and ignored by the\n",
    "# Python interpreter. For example:\n",
    "# ```python\n",
    "# # This is a single-line comment\n",
    "# print(\"Hello, World!\")  # This prints a message"
   ]
  },
  {
   "cell_type": "code",
   "execution_count": null,
   "id": "f57e8f2e",
   "metadata": {},
   "outputs": [],
   "source": [
    "# 8. Mention functions which can help us to find the version of python that we are currently working on?\n",
    "#Answer-\n",
    "# You can use the `sys` module to find the version of Python you are currently working on.\n",
    "# Specifically, you can use `sys.version` or `sys.version_info`. here's how you can do it:\n",
    "# import sys\n",
    "# print(sys.version)\n",
    "# print(sys.version_info)\n",
    "# Using command line (outside Python)\n",
    "# If you're in a terminal or command prompt:\n",
    "# python --version\n",
    "# # or\n",
    "# python3 --version"
   ]
  },
  {
   "cell_type": "code",
   "execution_count": null,
   "id": "9afc182a",
   "metadata": {},
   "outputs": [],
   "source": [
    "# 9. Python supports the creation of anonymous functions at runtime, using a construct called \n",
    "#Answer-\n",
    "# Python supports the creation of anonymous functions at runtime using a construct called\n",
    "# \"lambda\". A lambda function is a small, unnamed function defined using the `lambda`\n",
    "# keyword. It can take any number of arguments but can only have a single expression.\n",
    "# Here's an example of a lambda function:\n",
    "# ```python\n",
    "# add = lambda x, y: x + y\n",
    "# result = add(5, 3)\n",
    "# print(result)  # Output: 8\n",
    "# ```"
   ]
  },
  {
   "cell_type": "code",
   "execution_count": null,
   "id": "43835b4b",
   "metadata": {},
   "outputs": [],
   "source": [
    "#10. What does pip stand for python?\n",
    "#Answer-\n",
    "# `pip` stands for \"Pip Installs Packages\" or \"Pip Installs Python\". It is a package manager for Python that allows you to install,\n",
    "# upgrade, and manage Python packages and libraries from the Python Package Index (PyPI) and other repositories.\n",
    "# It simplifies the process of installing and managing third-party libraries and dependencies in Python projects.\n",
    "# You can use pip to install packages by running commands like:\n",
    "# pip install package_name "
   ]
  },
  {
   "cell_type": "code",
   "execution_count": null,
   "id": "f3d999ac",
   "metadata": {},
   "outputs": [],
   "source": [
    "# 11. Mention a few built- in functions in python?\n",
    "#Answer-\n",
    "# Python has many built-in functions that are available for use without needing to import any modules.\n",
    "# Here are a few commonly used built-in functions:\n",
    "# - `print()`: Outputs data to the console.\n",
    "# - `len()`: Returns the length of an object (e.g., string, list, tuple).\n",
    "# - `type()`: Returns the type of an object.\n",
    "# - `int()`: Converts a value to an integer.\n",
    "# - `float()`: Converts a value to a floating-point number.\n",
    "# - `str()`: Converts a value to a string.\n",
    "# - `list()`: Converts an iterable to a list.\n",
    "# - `dict()`: Creates a new dictionary.\n",
    "# - `set()`: Creates a new set.\n",
    "# - `range()`: Generates a sequence of numbers. "
   ]
  },
  {
   "cell_type": "code",
   "execution_count": null,
   "id": "bc410735",
   "metadata": {},
   "outputs": [],
   "source": [
    "#12. What is the maximum possible length of an identifier in Python?\n",
    "#Answer-\n",
    "# In Python, the maximum possible length of an identifier (variable name, function name, class name, etc.) is not explicitly defined by the language specification.\n",
    "# However, it is generally recommended to keep identifiers reasonably short and meaningful for readability and maintainability.\n",
    "# Practically, Python allows identifiers to be very long, and the limit is typically determined by the underlying system's memory and performance constraints\n",
    "# rather than a specific character limit. In practice, identifiers can be several thousand characters long,\n",
    "# but it's best to use concise and descriptive names to enhance code clarity."
   ]
  },
  {
   "cell_type": "code",
   "execution_count": null,
   "id": "5d21821e",
   "metadata": {},
   "outputs": [],
   "source": [
    "#13. What are the benefits of using Python?\n",
    "#Answer-\n",
    "# Python offers numerous benefits that make it a popular choice for developers and organizations:\n",
    "# 1. Readability: Python's syntax is designed to be clear and easy to read, which enhances code maintainability and collaboration.\n",
    "# 2. Versatility: Python can be used for a wide range of applications, including web development, data analysis, machine learning, automation, scientific computing, and more.\n",
    "# 3. Large Standard Library: Python comes with a rich standard library that provides many built-in modules and functions, reducing the need for external libraries for common tasks.\n",
    "# 4. Cross-Platform Compatibility: Python is platform-independent, meaning code can run on various operating systems (Windows, macOS, Linux) without modification.\n",
    "# 5. Strong Community Support:\n",
    "# Python has a large and active community that contributes to its development, provides support, and creates a vast ecosystem of third-party libraries and frameworks.\n",
    "# 6. Rapid Development: Python's simplicity and ease of use allow for rapid application development, making it suitable for prototyping and iterative development.\n",
    "# 7. Extensive Libraries and Frameworks: Python has a wide range of libraries and frameworks that simplify tasks such as web development (Django, Flask), data analysis (Pandas, NumPy), and machine learning (TensorFlow, PyTorch).\n",
    "# 8. Integration Capabilities:\n",
    "# Python can easily integrate with other languages (C, C++, Java) and technologies, making it suitable for building complex applications.\n",
    "# 9. Open Source: Python is open-source, meaning it is free to use, distribute, and modify. This encourages collaboration and innovation within the community.\n",
    "# 10. Strong Support for Data Science and Machine Learning: Python has become the de facto language for data science and machine learning, with libraries like NumPy, Pandas, Matplotlib,\n",
    "# and scikit-learn providing powerful tools for data manipulation, analysis, and visualization."
   ]
  },
  {
   "cell_type": "code",
   "execution_count": null,
   "id": "73a1e5ac",
   "metadata": {},
   "outputs": [],
   "source": [
    "#14. How is memory managed in Python?\n",
    "#Answer-\n",
    "# Memory management in Python is handled automatically by the Python memory manager, which includes a built-in garbage collector.\n",
    "# Here are the key aspects of memory management in Python:\n",
    "# 1. Automatic Memory Management: Python automatically allocates and deallocates memory for objects\n",
    "#    as needed. Developers do not need to manually manage memory allocation and deallocation.\n",
    "# 2. Reference Counting: Python uses reference counting to keep track of the number of references\n",
    "#    to an object. When the reference count drops to zero (i.e., no references to the object exist),\n",
    "#    the memory occupied by that object is deallocated.\n",
    "# 3. Garbage Collection: In addition to reference counting, Python has a garbage collector that\n",
    "#    periodically checks for and collects objects that are no longer reachable or referenced.\n",
    "#    This helps to clean up circular references that reference counting alone cannot handle.\n",
    "# 4. Memory Pools: Python uses memory pools to manage small objects efficiently. It allocates memory in blocks for small objects to reduce fragmentation and improve performance.\n",
    "# 5. Memory Leaks: While Python's memory management is generally effective, memory leaks can still occur if references to objects\n",
    "#    are not properly released. Developers should be mindful of circular references and ensure that objects are dereferenced when they are no longer needed.\n",
    "# 6. Memory Profiling: Python provides tools like `gc` (garbage collector) and `tracemalloc` to help developers monitor memory usage and identify memory leaks in their applications.\n",
    "# 7. Custom Memory Management: In some cases, developers may need to implement custom memory management strategies,\n",
    "#    especially when dealing with large data structures or performance-critical applications.\n",
    "#    This can be done using Python's `ctypes` or `          cffi` libraries to interface with C memory management functions."
   ]
  },
  {
   "cell_type": "code",
   "execution_count": null,
   "id": "5e11e13c",
   "metadata": {
    "vscode": {
     "languageId": "yaml"
    }
   },
   "outputs": [],
   "source": [
    "#15. How to install Python on Windows and set path variables?\n",
    "#Answer-\n",
    "# To install Python on Windows and set the path variables, follow these steps:\n",
    "# 1. Download Python:\n",
    "#   - Go to the official Python website: https://www.python.org/downloads/\n",
    "#   - Download the latest version of Python for Windows.\n",
    "# 2. Run the Installer:\n",
    "#   - Double-click the downloaded installer file.\n",
    "#   - Make sure to check the box that says \"Add Python to PATH\" before clicking \"Install Now\".\n",
    "# 3. Complete the Installation:\n",
    "#   - Follow the prompts to complete the installation.\n",
    "# 4. Verify the Installation:\n",
    "#   - Open Command Prompt (cmd).\n",
    "#   - Type `python --version` or `python -V` and press Enter.\n",
    "#   - You should see the installed Python version if everything is set up correctly.  "
   ]
  },
  {
   "cell_type": "code",
   "execution_count": null,
   "id": "d2f79f44",
   "metadata": {
    "vscode": {
     "languageId": "yaml"
    }
   },
   "outputs": [],
   "source": [
    "#16. Is indentation required in python?\n",
    "#Answer-\n",
    "# Yes, indentation is required in Python. It is used to define the structure of the code, \n",
    "#such as blocks of code for loops, conditionals, and function definitions. \n",
    "#Unlike many other programming languages that use braces or keywords to define blocks, Python uses indentation to indicate a block of code.\n",
    "# Consistent indentation is crucial; otherwise, it will result in an `IndentationError`."
   ]
  }
 ],
 "metadata": {
  "kernelspec": {
   "display_name": "Python 3",
   "language": "python",
   "name": "python3"
  },
  "language_info": {
   "codemirror_mode": {
    "name": "ipython",
    "version": 3
   },
   "file_extension": ".py",
   "mimetype": "text/x-python",
   "name": "python",
   "nbconvert_exporter": "python",
   "pygments_lexer": "ipython3",
   "version": "3.13.0"
  }
 },
 "nbformat": 4,
 "nbformat_minor": 5
}
