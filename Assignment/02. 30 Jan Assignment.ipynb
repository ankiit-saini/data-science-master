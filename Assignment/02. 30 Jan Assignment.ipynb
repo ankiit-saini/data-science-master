{
 "cells": [
  {
   "cell_type": "markdown",
   "id": "7544b18f",
   "metadata": {},
   "source": [
    "# question 1"
   ]
  },
  {
   "cell_type": "code",
   "execution_count": 5,
   "id": "58d84af0",
   "metadata": {},
   "outputs": [
    {
     "name": "stdout",
     "output_type": "stream",
     "text": [
      "you get D Grade\n"
     ]
    }
   ],
   "source": [
    "Marks = int(input(\"write your marks\"))\n",
    "if Marks > 90:\n",
    "    print(\"You get A Grade\")\n",
    "elif Marks > 80 and  Marks <= 90:\n",
    "    print(\"you get B Grade\")\n",
    "elif Marks >= 60 and Marks <= 80:\n",
    "    print(\"you get C Grade\")\n",
    "else :\n",
    "    print(\"you get D Grade\")\n",
    "\n"
   ]
  },
  {
   "cell_type": "markdown",
   "id": "32d79029",
   "metadata": {},
   "source": [
    "# Question 2"
   ]
  },
  {
   "cell_type": "code",
   "execution_count": 7,
   "id": "d394ae88",
   "metadata": {},
   "outputs": [
    {
     "name": "stdout",
     "output_type": "stream",
     "text": [
      "Your road tax to be paid 10%\n"
     ]
    }
   ],
   "source": [
    "Coast = int(input(\"enter your bike coast\"))\n",
    "if Coast > 100000:\n",
    "    print(\"your road tax to be paid 15 %\")\n",
    "elif Coast > 50000 and Coast <= 100000:\n",
    "    print(\"Your road tax to be paid 10%\")\n",
    "else:\n",
    "    print(\"Your road tax to be paid 5%\")      "
   ]
  },
  {
   "cell_type": "markdown",
   "id": "0d6383c5",
   "metadata": {},
   "source": [
    "# question 3"
   ]
  },
  {
   "cell_type": "code",
   "execution_count": 10,
   "id": "98ebb4c7",
   "metadata": {},
   "outputs": [
    {
     "name": "stdout",
     "output_type": "stream",
     "text": [
      "the famous monument in Jaipur is : Jal Mahal\n"
     ]
    }
   ],
   "source": [
    "city = input(\"Enter a city name (Delhi, Agra, Jaipur)\").title()\n",
    "\n",
    "city_monuments = {\"Delhi\" : \"Red fort\" ,\"Agra\" : \"Taj Mahal\",\"Jaipur\": \"Jal Mahal\"}\n",
    "if city in city_monuments:\n",
    "    print(f\"the famous monument in {city} is : {city_monuments[city]}\")\n",
    "else:\n",
    "    print(\"Sorry , monument information for this city is not available\")    \n"
   ]
  },
  {
   "cell_type": "markdown",
   "id": "e7774bed",
   "metadata": {},
   "source": [
    "# 4. Check how many times a given number can be divided by 3 before it is less than or equal to 10."
   ]
  },
  {
   "cell_type": "code",
   "execution_count": 13,
   "id": "505ba2c6",
   "metadata": {},
   "outputs": [
    {
     "name": "stdout",
     "output_type": "stream",
     "text": [
      "number of times divisible by 3 before <= 10 : 2\n"
     ]
    }
   ],
   "source": [
    "num = int(input(\"enter a nimber\"))\n",
    "\n",
    "count = 0\n",
    "\n",
    "while num > 10:\n",
    "    num = num/3\n",
    "    count+= 1\n",
    "\n",
    "print(\"number of times divisible by 3 before <= 10 :\", count)"
   ]
  },
  {
   "cell_type": "markdown",
   "id": "f00bae13",
   "metadata": {},
   "source": [
    "# 5. Why and When to Use while Loop in Python give a detailed description with example"
   ]
  },
  {
   "cell_type": "markdown",
   "id": "e5b83768",
   "metadata": {},
   "source": [
    "# Answer\n",
    "🔹 What is a while loop?\n",
    "\n",
    "A while loop in Python repeatedly executes a block of code as long as a given condition is True.\n",
    "\n",
    "🔍 Why Use a while Loop?\n",
    "\n",
    "Use a while loop when:\n",
    "\n",
    "You don't know in advance how many times the loop needs to run.\n",
    "You want to repeat an action until a condition is no longer true.\n",
    "You're dealing with input validation, reading from a file, or waiting for something to happen (like user input or a changing variable).\n",
    "\n",
    "\n",
    "📘 Example : Counting Down\n",
    "\n"
   ]
  },
  {
   "cell_type": "code",
   "execution_count": 14,
   "id": "931c5e8a",
   "metadata": {},
   "outputs": [
    {
     "name": "stdout",
     "output_type": "stream",
     "text": [
      "5\n",
      "4\n",
      "3\n",
      "2\n",
      "1\n"
     ]
    }
   ],
   "source": [
    "num = 5\n",
    "while num > 0:\n",
    "    print(num)\n",
    "    num -= 1\n",
    "\n"
   ]
  },
  {
   "cell_type": "markdown",
   "id": "5d02e001",
   "metadata": {},
   "source": [
    "# 6. Use nested while loop to print 3 different pattern."
   ]
  },
  {
   "cell_type": "code",
   "execution_count": 22,
   "id": "66fb25c6",
   "metadata": {},
   "outputs": [
    {
     "name": "stdout",
     "output_type": "stream",
     "text": [
      "* \n",
      "* * \n",
      "* * * \n",
      "* * * * \n",
      "* * * * * \n",
      "* * * * * * \n",
      "* * * * * * * \n",
      "* * * * * * * * \n",
      "* * * * * * * * * \n",
      "* * * * * * * * * * \n"
     ]
    }
   ],
   "source": [
    "#Pattern 1: Right-Angled Triangle of Stars\n",
    "\n",
    "i = 1\n",
    "while i <= 10:\n",
    "    j = 1\n",
    "    while j <= i:\n",
    "        print(\"*\" , end=\" \")\n",
    "        j += 1\n",
    "    print()\n",
    "    i += 1\n"
   ]
  },
  {
   "cell_type": "code",
   "execution_count": null,
   "id": "68933465",
   "metadata": {},
   "outputs": [],
   "source": []
  }
 ],
 "metadata": {
  "kernelspec": {
   "display_name": "Python 3",
   "language": "python",
   "name": "python3"
  },
  "language_info": {
   "codemirror_mode": {
    "name": "ipython",
    "version": 3
   },
   "file_extension": ".py",
   "mimetype": "text/x-python",
   "name": "python",
   "nbconvert_exporter": "python",
   "pygments_lexer": "ipython3",
   "version": "3.13.0"
  }
 },
 "nbformat": 4,
 "nbformat_minor": 5
}
